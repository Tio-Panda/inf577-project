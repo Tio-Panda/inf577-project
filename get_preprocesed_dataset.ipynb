{
 "cells": [
  {
   "cell_type": "markdown",
   "id": "ab597181",
   "metadata": {},
   "source": [
    "# Colab"
   ]
  },
  {
   "cell_type": "code",
   "execution_count": null,
   "id": "af84a857",
   "metadata": {},
   "outputs": [],
   "source": [
    "!git clone https://github.com/Tio-Panda/inf577-project.git"
   ]
  },
  {
   "cell_type": "markdown",
   "id": "72467988",
   "metadata": {},
   "source": [
    "# Init"
   ]
  },
  {
   "cell_type": "code",
   "execution_count": null,
   "id": "c693a8e2",
   "metadata": {},
   "outputs": [],
   "source": [
    "import h5py\n",
    "from tqdm import tqdm\n",
    "\n",
    "from modules import ReconstructionRF, get_grid, get_bmode, save_bmode, DataLoader\n",
    "\n",
    "%load_ext autoreload\n",
    "%autoreload 2\n",
    "\n",
    "import sys\n",
    "import numpy as np\n",
    "import tensorflow as tf\n",
    "from pathlib import Path\n",
    "\n",
    "base_path = \".\" # local\n",
    "#base_path = \"/content/inf557-project\" # colab\n",
    "\n",
    "sys.path.append(f\"{base_path}/modules\")"
   ]
  },
  {
   "cell_type": "markdown",
   "id": "d3db1b93",
   "metadata": {},
   "source": [
    "# Create dataset"
   ]
  },
  {
   "cell_type": "code",
   "execution_count": null,
   "id": "7ffb41f2",
   "metadata": {},
   "outputs": [],
   "source": [
    "Nz = 2048\n",
    "Nx = 256\n",
    "new_Ns = 2800\n",
    "\n",
    "dl = DataLoader(f\"{base_path}/original_dataset\", \"./data.csv\")\n",
    "\n",
    "df = dl.get_df()\n",
    "df = df.query(\"RF == 1 and n_channels == 128\")\n",
    "df = df[df[\"name\"].str[:3] != \"JHU\"]\n",
    "df = df[df[\"source\"].str[:3] != \"PICMUS\"]\n",
    "names = df[\"name\"]\n",
    "\n",
    "pbar = tqdm(names, desc=\"Files\", unit=\"file\")\n",
    "\n",
    "stages = [\n",
    "    \"load files\",\n",
    "    \"padding\",\n",
    "    \"beamforming\",\n",
    "    \"save\"\n",
    "]\n",
    "\n",
    "for name in pbar:\n",
    "\n",
    "    pbar.set_description(f\"-> {name}\")\n",
    "\n",
    "    pw = dl.get_defined_pwdata(selected_name=name, mode=\"RF\")\n",
    "\n",
    "    if pw.n_samples <= new_Ns:\n",
    "        pw.rfdata = np.pad(pw.rfdata, pad_width=((0,0), (0,0), (0, new_Ns - pw.n_samples)), mode='constant', constant_values=0)\n",
    "    else:\n",
    "        pw.rfdata = pw.rfdata[:, :, :new_Ns]\n",
    "        pw.img_depth = (new_Ns / pw.fs) * (pw.c0 / 2)\n",
    "    pw.n_samples = new_Ns\n",
    "\n",
    "    grid = get_grid(pw, Nz, Nx)\n",
    "\n",
    "    rf_max = pw.rfdata / np.max(np.abs(pw.rfdata))\n",
    "    sigma = np.std(rf_max)\n",
    "    pw.rfdata = rf_max / sigma\n",
    "\n",
    "    engine = ReconstructionRF(pw, grid)\n",
    "    selected_angles = np.arange(pw.n_angles)\n",
    "\n",
    "    imgs = engine.mv_bmfrm(selected_angles, L=32, delta=0.05, z_chunk=800)\n",
    "    img = imgs.mean(axis=0)\n",
    "    bimg = get_bmode(img)\n",
    "\n",
    "    with h5py.File(base_path+\"/processed_dataset/\"+name+\".hdf5\", \"w\") as f:\n",
    "        f.create_dataset(\"img\", data=img, compression=\"gzip\", chunks=True)\n",
    "        f.create_dataset(\"rfdata\", data=pw.rfdata[pw.n_angles//2, ...], compression=\"gzip\", chunks=True)\n",
    "        f.create_dataset(\"grid\", data=grid, compression=\"gzip\", chunks=True)\n",
    "        f.create_dataset(\"probe_geometry\", data=pw.probe_geometry, compression=\"gzip\", chunks=True)\n",
    "\n",
    "        f.attrs[\"zlims\"] = pw.zlims\n",
    "        f.attrs[\"fs\"] = np.squeeze(pw.fs)\n",
    "        f.attrs[\"c0\"] = np.squeeze(pw.c0)\n",
    "        f.attrs[\"t0\"] = np.squeeze(pw.t0[pw.n_angles//2])\n",
    "        f.attrs[\"angle\"] = np.squeeze(pw.angles[pw.n_angles//2])\n",
    "        f.attrs[\"Ns\"] = pw.n_samples\n",
    "        f.attrs[\"Nc\"] = pw.n_channels\n",
    "        f.attrs[\"Nz\"] = Nz\n",
    "        f.attrs[\"Nx\"] = Nx\n",
    "        f.attrs[\"name\"] = pw.name"
   ]
  }
 ],
 "metadata": {
  "language_info": {
   "name": "python"
  }
 },
 "nbformat": 4,
 "nbformat_minor": 5
}
