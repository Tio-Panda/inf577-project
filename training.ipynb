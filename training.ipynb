{
 "cells": [
  {
   "cell_type": "markdown",
   "id": "d93ac938",
   "metadata": {},
   "source": [
    "# Colab"
   ]
  },
  {
   "cell_type": "code",
   "execution_count": null,
   "id": "9f3aa093",
   "metadata": {},
   "outputs": [],
   "source": [
    "!git clone https://github.com/Tio-Panda/inf577-project.git"
   ]
  },
  {
   "cell_type": "markdown",
   "id": "09e6f3fa",
   "metadata": {},
   "source": [
    "# Init"
   ]
  },
  {
   "cell_type": "code",
   "execution_count": null,
   "id": "c6594228",
   "metadata": {},
   "outputs": [],
   "source": [
    "%load_ext autoreload\n",
    "%autoreload 2\n",
    "\n",
    "import os\n",
    "import sys\n",
    "import numpy as np\n",
    "from pathlib import Path\n",
    "\n",
    "import tensorflow as tf\n",
    "import keras\n",
    "\n",
    "\n",
    "base_path = \".\" # local\n",
    "#base_path = \"/content/inf557-project\" # colab\n",
    "\n",
    "dataset_path = f\"{base_path}/processed_dataset\"\n",
    "weights_path = f\"{base_path}/weights\"\n",
    "\n",
    "Ns = 2800\n",
    "Nc = 128\n",
    "Nz = 2048\n",
    "Nx = 256\n",
    "\n",
    "gpus = tf.config.list_physical_devices('GPU')\n",
    "for gpu in gpus:\n",
    "    tf.config.experimental.set_memory_growth(gpu, True)\n",
    "\n",
    "tf.keras.config.disable_traceback_filtering()\n",
    "keras.backend.clear_session()\n",
    "import gc; gc.collect()"
   ]
  },
  {
   "cell_type": "markdown",
   "id": "2f99a1d1",
   "metadata": {},
   "source": [
    "# Load Data"
   ]
  },
  {
   "cell_type": "code",
   "execution_count": null,
   "id": "23478edd",
   "metadata": {},
   "outputs": [],
   "source": [
    "from modules import split_dataset\n",
    "\n",
    "batch_size = 1\n",
    "train, val = split_dataset(dataset_path, splits=(0.9, 0.1), batch_size=batch_size, buffer_size=batch_size, seed=11, Nc=Nc, Ns=Ns, Nz=Nz, Nx=Nx)"
   ]
  },
  {
   "cell_type": "markdown",
   "id": "ea5514e3",
   "metadata": {},
   "source": [
    "# Load Model"
   ]
  },
  {
   "cell_type": "code",
   "execution_count": null,
   "id": "0dc3fbaf",
   "metadata": {},
   "outputs": [],
   "source": [
    "from modules import get_model\n",
    "\n",
    "k_m1 = [16, 8, -1, 8, 4, 1] # Model-1\n",
    "k_m2 = [-1, 16, 8, 8, 4, 1] # Model-2\n",
    "k_m3 = [16, 8, 8, 4, 1, -1] # Model-3\n",
    "\n",
    "model = get_model(k_array=k_m1, version=\"FULL\", Nc=Nc, Ns=Ns, Nz=Nz, Nx=Nx)\n",
    "model.summary()"
   ]
  },
  {
   "cell_type": "markdown",
   "id": "ad072bab",
   "metadata": {},
   "source": [
    "# Training"
   ]
  },
  {
   "cell_type": "code",
   "execution_count": null,
   "id": "47319451",
   "metadata": {},
   "outputs": [],
   "source": [
    "model_name = \"model-1.1\"\n",
    "\n",
    "early_stop = keras.callbacks.EarlyStopping(\n",
    "    monitor=\"val_loss\", patience=10, min_delta=800,\n",
    "    restore_best_weights=True, start_from_epoch=3\n",
    ")\n",
    "\n",
    "ckpt = keras.callbacks.ModelCheckpoint(\n",
    "    filepath=weights_path+model_name+\".keras\",\n",
    "    monitor=\"val_loss\", save_best_only=True,\n",
    "    save_weights_only=False\n",
    ")\n",
    "\n",
    "tensorboard = keras.callbacks.TensorBoard(log_dir=\"logs/\"+model_name, profile_batch=0)\n",
    "\n",
    "csv_logger = keras.callbacks.CSVLogger(\"./training_log/\"+model_name+\".csv\", append=False)\n",
    "\n",
    "callbacks = [ckpt, tensorboard, csv_logger]\n",
    "\n",
    "\n",
    "hist = model.fit(train, validation_data=val, epochs=100, callbacks=callbacks)"
   ]
  },
  {
   "cell_type": "markdown",
   "id": "e025ee4d",
   "metadata": {},
   "source": [
    "# Get a reconstruction"
   ]
  },
  {
   "cell_type": "code",
   "execution_count": null,
   "id": "7e998bfe",
   "metadata": {},
   "outputs": [],
   "source": [
    "from modules import load_data, get_bmode, show_bmode\n",
    "\n",
    "inputs, label = load_data(\"carotid_cross_long_dataset_rf\", base_path)\n",
    "\n",
    "custom_obj = {\n",
    "    \"LeakyReLU\": keras.layers.LeakyReLU,\n",
    "}\n",
    "model1 = keras.saving.load_model(\n",
    "    weights_path+model_name+\".keras\",\n",
    "    custom_objects=custom_obj\n",
    ")"
   ]
  },
  {
   "cell_type": "code",
   "execution_count": null,
   "id": "97f26b88",
   "metadata": {},
   "outputs": [],
   "source": [
    "from modules import get_bmode, show_bmode\n",
    "\n",
    "img = model1.predict(inputs)\n",
    "\n",
    "vmin = -45\n",
    "bimg = get_bmode(img[0, ..., 0])\n",
    "show_bmode(bimg, tf.squeeze(inputs[\"grid\"]), vmin=vmin)\n",
    "\n",
    "bimg = get_bmode(label)\n",
    "show_bmode(bimg, tf.squeeze(inputs[\"grid\"]), vmin=vmin)"
   ]
  }
 ],
 "metadata": {
  "language_info": {
   "name": "python"
  }
 },
 "nbformat": 4,
 "nbformat_minor": 5
}
